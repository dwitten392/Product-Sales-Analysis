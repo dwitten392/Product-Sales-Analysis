{
 "cells": [
  {
   "cell_type": "markdown",
   "id": "fc03c2b2",
   "metadata": {},
   "source": [
    "# Data Analyst Professional - Practical Exam"
   ]
  },
  {
   "cell_type": "code",
   "execution_count": 1,
   "id": "34f48d61",
   "metadata": {},
   "outputs": [
    {
     "data": {
      "text/html": [
       "<style>.container { width:85% !important; }</style>"
      ],
      "text/plain": [
       "<IPython.core.display.HTML object>"
      ]
     },
     "metadata": {},
     "output_type": "display_data"
    }
   ],
   "source": [
    "from IPython.display import display, HTML\n",
    "display(HTML(\"<style>.container { width:85% !important; }</style>\"))"
   ]
  },
  {
   "cell_type": "code",
   "execution_count": 2,
   "id": "2ec633f8",
   "metadata": {},
   "outputs": [],
   "source": [
    "import pandas as pd\n",
    "import numpy as np\n",
    "import matplotlib.pyplot as plt\n",
    "import seaborn as sns\n",
    "import datetime as dt"
   ]
  },
  {
   "cell_type": "markdown",
   "id": "1e0a7cc6",
   "metadata": {},
   "source": [
    "## Importing Data"
   ]
  },
  {
   "cell_type": "code",
   "execution_count": 3,
   "id": "3e8d6982",
   "metadata": {},
   "outputs": [
    {
     "name": "stdout",
     "output_type": "stream",
     "text": [
      "Product Sales Loaded\n"
     ]
    }
   ],
   "source": [
    "#project data\n",
    "df = pd.read_csv(\"product_sales.csv\")\n",
    "print(\"Product Sales Loaded\")"
   ]
  },
  {
   "cell_type": "markdown",
   "id": "88afb711",
   "metadata": {},
   "source": [
    "## EDA"
   ]
  },
  {
   "cell_type": "code",
   "execution_count": 429,
   "id": "a46c39cb",
   "metadata": {},
   "outputs": [
    {
     "name": "stdout",
     "output_type": "stream",
     "text": [
      "<class 'pandas.core.frame.DataFrame'>\n",
      "RangeIndex: 15000 entries, 0 to 14999\n",
      "Data columns (total 8 columns):\n",
      " #   Column             Non-Null Count  Dtype  \n",
      "---  ------             --------------  -----  \n",
      " 0   week               15000 non-null  int64  \n",
      " 1   sales_method       15000 non-null  object \n",
      " 2   customer_id        15000 non-null  object \n",
      " 3   nb_sold            15000 non-null  int64  \n",
      " 4   revenue            13926 non-null  float64\n",
      " 5   years_as_customer  15000 non-null  int64  \n",
      " 6   nb_site_visits     15000 non-null  int64  \n",
      " 7   state              15000 non-null  object \n",
      "dtypes: float64(1), int64(4), object(3)\n",
      "memory usage: 937.6+ KB\n"
     ]
    }
   ],
   "source": [
    "df.info()"
   ]
  },
  {
   "cell_type": "code",
   "execution_count": 430,
   "id": "f512c59f",
   "metadata": {},
   "outputs": [
    {
     "data": {
      "text/html": [
       "<div>\n",
       "<style scoped>\n",
       "    .dataframe tbody tr th:only-of-type {\n",
       "        vertical-align: middle;\n",
       "    }\n",
       "\n",
       "    .dataframe tbody tr th {\n",
       "        vertical-align: top;\n",
       "    }\n",
       "\n",
       "    .dataframe thead th {\n",
       "        text-align: right;\n",
       "    }\n",
       "</style>\n",
       "<table border=\"1\" class=\"dataframe\">\n",
       "  <thead>\n",
       "    <tr style=\"text-align: right;\">\n",
       "      <th></th>\n",
       "      <th>week</th>\n",
       "      <th>sales_method</th>\n",
       "      <th>customer_id</th>\n",
       "      <th>nb_sold</th>\n",
       "      <th>revenue</th>\n",
       "      <th>years_as_customer</th>\n",
       "      <th>nb_site_visits</th>\n",
       "      <th>state</th>\n",
       "    </tr>\n",
       "  </thead>\n",
       "  <tbody>\n",
       "    <tr>\n",
       "      <th>0</th>\n",
       "      <td>2</td>\n",
       "      <td>Email</td>\n",
       "      <td>2e72d641-95ac-497b-bbf8-4861764a7097</td>\n",
       "      <td>10</td>\n",
       "      <td>NaN</td>\n",
       "      <td>0</td>\n",
       "      <td>24</td>\n",
       "      <td>Arizona</td>\n",
       "    </tr>\n",
       "    <tr>\n",
       "      <th>1</th>\n",
       "      <td>6</td>\n",
       "      <td>Email + Call</td>\n",
       "      <td>3998a98d-70f5-44f7-942e-789bb8ad2fe7</td>\n",
       "      <td>15</td>\n",
       "      <td>225.47</td>\n",
       "      <td>1</td>\n",
       "      <td>28</td>\n",
       "      <td>Kansas</td>\n",
       "    </tr>\n",
       "    <tr>\n",
       "      <th>2</th>\n",
       "      <td>5</td>\n",
       "      <td>Call</td>\n",
       "      <td>d1de9884-8059-4065-b10f-86eef57e4a44</td>\n",
       "      <td>11</td>\n",
       "      <td>52.55</td>\n",
       "      <td>6</td>\n",
       "      <td>26</td>\n",
       "      <td>Wisconsin</td>\n",
       "    </tr>\n",
       "    <tr>\n",
       "      <th>3</th>\n",
       "      <td>4</td>\n",
       "      <td>Email</td>\n",
       "      <td>78aa75a4-ffeb-4817-b1d0-2f030783c5d7</td>\n",
       "      <td>11</td>\n",
       "      <td>NaN</td>\n",
       "      <td>3</td>\n",
       "      <td>25</td>\n",
       "      <td>Indiana</td>\n",
       "    </tr>\n",
       "    <tr>\n",
       "      <th>4</th>\n",
       "      <td>3</td>\n",
       "      <td>Email</td>\n",
       "      <td>10e6d446-10a5-42e5-8210-1b5438f70922</td>\n",
       "      <td>9</td>\n",
       "      <td>90.49</td>\n",
       "      <td>0</td>\n",
       "      <td>28</td>\n",
       "      <td>Illinois</td>\n",
       "    </tr>\n",
       "  </tbody>\n",
       "</table>\n",
       "</div>"
      ],
      "text/plain": [
       "   week  sales_method                           customer_id  nb_sold  revenue  \\\n",
       "0     2         Email  2e72d641-95ac-497b-bbf8-4861764a7097       10      NaN   \n",
       "1     6  Email + Call  3998a98d-70f5-44f7-942e-789bb8ad2fe7       15   225.47   \n",
       "2     5          Call  d1de9884-8059-4065-b10f-86eef57e4a44       11    52.55   \n",
       "3     4         Email  78aa75a4-ffeb-4817-b1d0-2f030783c5d7       11      NaN   \n",
       "4     3         Email  10e6d446-10a5-42e5-8210-1b5438f70922        9    90.49   \n",
       "\n",
       "   years_as_customer  nb_site_visits      state  \n",
       "0                  0              24    Arizona  \n",
       "1                  1              28     Kansas  \n",
       "2                  6              26  Wisconsin  \n",
       "3                  3              25    Indiana  \n",
       "4                  0              28   Illinois  "
      ]
     },
     "execution_count": 430,
     "metadata": {},
     "output_type": "execute_result"
    }
   ],
   "source": [
    "df.head()"
   ]
  },
  {
   "cell_type": "code",
   "execution_count": 431,
   "id": "f85c0275",
   "metadata": {},
   "outputs": [
    {
     "data": {
      "text/plain": [
       "1    3721\n",
       "4    2575\n",
       "5    2574\n",
       "2    2491\n",
       "3    2411\n",
       "6    1228\n",
       "Name: week, dtype: int64"
      ]
     },
     "execution_count": 431,
     "metadata": {},
     "output_type": "execute_result"
    }
   ],
   "source": [
    "df.week.value_counts()"
   ]
  },
  {
   "cell_type": "code",
   "execution_count": 432,
   "id": "40fd5f8c",
   "metadata": {},
   "outputs": [
    {
     "data": {
      "text/plain": [
       "Text(0.5, 1.0, 'Count of Sales by Week')"
      ]
     },
     "execution_count": 432,
     "metadata": {},
     "output_type": "execute_result"
    },
    {
     "data": {
      "image/png": "[encoded data removed]",
      "text/plain": [
       "<Figure size 432x288 with 1 Axes>"
      ]
     },
     "metadata": {
      "needs_background": "light"
     },
     "output_type": "display_data"
    }
   ],
   "source": [
    "sns.countplot(x = 'week', data = df)\n",
    "plt.xlabel('Week')\n",
    "plt.ylabel('Count')\n",
    "plt.title('Count of Sales by Week')"
   ]
  },
  {
   "cell_type": "markdown",
   "id": "7d1d4da3",
   "metadata": {},
   "source": [
    "Only 1-6 weeks since launch is in the data which is weird"
   ]
  },
  {
   "cell_type": "code",
   "execution_count": 433,
   "id": "9008dc0a",
   "metadata": {},
   "outputs": [
    {
     "data": {
      "text/plain": [
       "Email           7456\n",
       "Call            4962\n",
       "Email + Call    2549\n",
       "em + call         23\n",
       "email             10\n",
       "Name: sales_method, dtype: int64"
      ]
     },
     "execution_count": 433,
     "metadata": {},
     "output_type": "execute_result"
    }
   ],
   "source": [
    "df.sales_method.value_counts()"
   ]
  },
  {
   "cell_type": "code",
   "execution_count": 434,
   "id": "fc812f3c",
   "metadata": {},
   "outputs": [
    {
     "data": {
      "text/plain": [
       "Text(0.5, 1.0, 'Count of Sales Method')"
      ]
     },
     "execution_count": 434,
     "metadata": {},
     "output_type": "execute_result"
    },
    {
     "data": {
      "image/png": "[encoded data removed]",
      "text/plain": [
       "<Figure size 432x288 with 1 Axes>"
      ]
     },
     "metadata": {
      "needs_background": "light"
     },
     "output_type": "display_data"
    }
   ],
   "source": [
    "sns.countplot(x = 'sales_method', data = df)\n",
    "plt.xlabel('Sales Method')\n",
    "plt.ylabel('Count')\n",
    "plt.title('Count of Sales Method')"
   ]
  },
  {
   "cell_type": "markdown",
   "id": "59c359f0",
   "metadata": {},
   "source": [
    "Easily fall into three categories with some manipulation"
   ]
  },
  {
   "cell_type": "code",
   "execution_count": 435,
   "id": "bd48e43b",
   "metadata": {},
   "outputs": [
    {
     "data": {
      "text/plain": [
       "15000"
      ]
     },
     "execution_count": 435,
     "metadata": {},
     "output_type": "execute_result"
    }
   ],
   "source": [
    "df.customer_id.nunique()"
   ]
  },
  {
   "cell_type": "markdown",
   "id": "48845c19",
   "metadata": {},
   "source": [
    "All customers in this data are unique which is surprising"
   ]
  },
  {
   "cell_type": "code",
   "execution_count": 436,
   "id": "bfe85679",
   "metadata": {},
   "outputs": [
    {
     "data": {
      "text/plain": [
       "[]"
      ]
     },
     "execution_count": 436,
     "metadata": {},
     "output_type": "execute_result"
    },
    {
     "data": {
      "image/png": "[encoded data removed]",
      "text/plain": [
       "<Figure size 432x288 with 1 Axes>"
      ]
     },
     "metadata": {
      "needs_background": "light"
     },
     "output_type": "display_data"
    }
   ],
   "source": [
    "df.hist(column = 'nb_sold')\n",
    "plt.xlabel('Number of Units Sold')\n",
    "plt.ylabel('Count')\n",
    "plt.title('Histogram of Number of Units Sold')\n",
    "plt.plot()"
   ]
  },
  {
   "cell_type": "markdown",
   "id": "990f124e",
   "metadata": {},
   "source": [
    "No nulls or major outliers in number of units sold. We don't know what product is sold however."
   ]
  },
  {
   "cell_type": "code",
   "execution_count": 437,
   "id": "0bc1a148",
   "metadata": {},
   "outputs": [
    {
     "data": {
      "text/plain": [
       "count    13926.000000\n",
       "mean        93.934943\n",
       "std         47.435312\n",
       "min         32.540000\n",
       "25%         52.470000\n",
       "50%         89.500000\n",
       "75%        107.327500\n",
       "max        238.320000\n",
       "Name: revenue, dtype: float64"
      ]
     },
     "execution_count": 437,
     "metadata": {},
     "output_type": "execute_result"
    }
   ],
   "source": [
    "df.revenue.describe()"
   ]
  },
  {
   "cell_type": "markdown",
   "id": "d29edac6",
   "metadata": {},
   "source": [
    "There are 1074 nulls in the revenue column"
   ]
  },
  {
   "cell_type": "code",
   "execution_count": 438,
   "id": "3af2e1a4",
   "metadata": {},
   "outputs": [
    {
     "data": {
      "text/html": [
       "<div>\n",
       "<style scoped>\n",
       "    .dataframe tbody tr th:only-of-type {\n",
       "        vertical-align: middle;\n",
       "    }\n",
       "\n",
       "    .dataframe tbody tr th {\n",
       "        vertical-align: top;\n",
       "    }\n",
       "\n",
       "    .dataframe thead th {\n",
       "        text-align: right;\n",
       "    }\n",
       "</style>\n",
       "<table border=\"1\" class=\"dataframe\">\n",
       "  <thead>\n",
       "    <tr style=\"text-align: right;\">\n",
       "      <th></th>\n",
       "      <th>week</th>\n",
       "      <th>sales_method</th>\n",
       "      <th>customer_id</th>\n",
       "      <th>nb_sold</th>\n",
       "      <th>revenue</th>\n",
       "      <th>years_as_customer</th>\n",
       "      <th>nb_site_visits</th>\n",
       "      <th>state</th>\n",
       "    </tr>\n",
       "  </thead>\n",
       "  <tbody>\n",
       "    <tr>\n",
       "      <th>0</th>\n",
       "      <td>2</td>\n",
       "      <td>Email</td>\n",
       "      <td>2e72d641-95ac-497b-bbf8-4861764a7097</td>\n",
       "      <td>10</td>\n",
       "      <td>NaN</td>\n",
       "      <td>0</td>\n",
       "      <td>24</td>\n",
       "      <td>Arizona</td>\n",
       "    </tr>\n",
       "    <tr>\n",
       "      <th>3</th>\n",
       "      <td>4</td>\n",
       "      <td>Email</td>\n",
       "      <td>78aa75a4-ffeb-4817-b1d0-2f030783c5d7</td>\n",
       "      <td>11</td>\n",
       "      <td>NaN</td>\n",
       "      <td>3</td>\n",
       "      <td>25</td>\n",
       "      <td>Indiana</td>\n",
       "    </tr>\n",
       "    <tr>\n",
       "      <th>16</th>\n",
       "      <td>2</td>\n",
       "      <td>Email</td>\n",
       "      <td>0f744f79-1588-4e0c-8865-fdaecc7f6dd4</td>\n",
       "      <td>10</td>\n",
       "      <td>NaN</td>\n",
       "      <td>6</td>\n",
       "      <td>30</td>\n",
       "      <td>Pennsylvania</td>\n",
       "    </tr>\n",
       "    <tr>\n",
       "      <th>17</th>\n",
       "      <td>6</td>\n",
       "      <td>Email + Call</td>\n",
       "      <td>d10690f0-6f63-409f-a1da-8ab0e5388390</td>\n",
       "      <td>15</td>\n",
       "      <td>NaN</td>\n",
       "      <td>0</td>\n",
       "      <td>24</td>\n",
       "      <td>Wisconsin</td>\n",
       "    </tr>\n",
       "    <tr>\n",
       "      <th>28</th>\n",
       "      <td>5</td>\n",
       "      <td>Email</td>\n",
       "      <td>f64f8fd5-e9b7-4326-9f5d-ef283f14d7ad</td>\n",
       "      <td>12</td>\n",
       "      <td>NaN</td>\n",
       "      <td>4</td>\n",
       "      <td>32</td>\n",
       "      <td>Florida</td>\n",
       "    </tr>\n",
       "    <tr>\n",
       "      <th>...</th>\n",
       "      <td>...</td>\n",
       "      <td>...</td>\n",
       "      <td>...</td>\n",
       "      <td>...</td>\n",
       "      <td>...</td>\n",
       "      <td>...</td>\n",
       "      <td>...</td>\n",
       "      <td>...</td>\n",
       "    </tr>\n",
       "    <tr>\n",
       "      <th>14951</th>\n",
       "      <td>5</td>\n",
       "      <td>Call</td>\n",
       "      <td>5f1c099a-3cf2-4c32-91f0-5ec802926073</td>\n",
       "      <td>10</td>\n",
       "      <td>NaN</td>\n",
       "      <td>10</td>\n",
       "      <td>25</td>\n",
       "      <td>Virginia</td>\n",
       "    </tr>\n",
       "    <tr>\n",
       "      <th>14957</th>\n",
       "      <td>1</td>\n",
       "      <td>Call</td>\n",
       "      <td>b7947946-8b0a-4031-8835-226200f260a5</td>\n",
       "      <td>7</td>\n",
       "      <td>NaN</td>\n",
       "      <td>5</td>\n",
       "      <td>23</td>\n",
       "      <td>Illinois</td>\n",
       "    </tr>\n",
       "    <tr>\n",
       "      <th>14970</th>\n",
       "      <td>4</td>\n",
       "      <td>Email + Call</td>\n",
       "      <td>72be03aa-25b1-4574-b358-74118cd8d81a</td>\n",
       "      <td>12</td>\n",
       "      <td>NaN</td>\n",
       "      <td>12</td>\n",
       "      <td>25</td>\n",
       "      <td>Washington</td>\n",
       "    </tr>\n",
       "    <tr>\n",
       "      <th>14992</th>\n",
       "      <td>5</td>\n",
       "      <td>em + call</td>\n",
       "      <td>cd9e6945-ae21-4bed-a6cf-f0302e6c4795</td>\n",
       "      <td>12</td>\n",
       "      <td>NaN</td>\n",
       "      <td>1</td>\n",
       "      <td>34</td>\n",
       "      <td>New York</td>\n",
       "    </tr>\n",
       "    <tr>\n",
       "      <th>14999</th>\n",
       "      <td>5</td>\n",
       "      <td>Email + Call</td>\n",
       "      <td>4e077235-7c17-4054-9997-7a890336a214</td>\n",
       "      <td>13</td>\n",
       "      <td>NaN</td>\n",
       "      <td>4</td>\n",
       "      <td>25</td>\n",
       "      <td>Illinois</td>\n",
       "    </tr>\n",
       "  </tbody>\n",
       "</table>\n",
       "<p>1074 rows × 8 columns</p>\n",
       "</div>"
      ],
      "text/plain": [
       "       week  sales_method                           customer_id  nb_sold  \\\n",
       "0         2         Email  2e72d641-95ac-497b-bbf8-4861764a7097       10   \n",
       "3         4         Email  78aa75a4-ffeb-4817-b1d0-2f030783c5d7       11   \n",
       "16        2         Email  0f744f79-1588-4e0c-8865-fdaecc7f6dd4       10   \n",
       "17        6  Email + Call  d10690f0-6f63-409f-a1da-8ab0e5388390       15   \n",
       "28        5         Email  f64f8fd5-e9b7-4326-9f5d-ef283f14d7ad       12   \n",
       "...     ...           ...                                   ...      ...   \n",
       "14951     5          Call  5f1c099a-3cf2-4c32-91f0-5ec802926073       10   \n",
       "14957     1          Call  b7947946-8b0a-4031-8835-226200f260a5        7   \n",
       "14970     4  Email + Call  72be03aa-25b1-4574-b358-74118cd8d81a       12   \n",
       "14992     5     em + call  cd9e6945-ae21-4bed-a6cf-f0302e6c4795       12   \n",
       "14999     5  Email + Call  4e077235-7c17-4054-9997-7a890336a214       13   \n",
       "\n",
       "       revenue  years_as_customer  nb_site_visits         state  \n",
       "0          NaN                  0              24       Arizona  \n",
       "3          NaN                  3              25       Indiana  \n",
       "16         NaN                  6              30  Pennsylvania  \n",
       "17         NaN                  0              24     Wisconsin  \n",
       "28         NaN                  4              32       Florida  \n",
       "...        ...                ...             ...           ...  \n",
       "14951      NaN                 10              25      Virginia  \n",
       "14957      NaN                  5              23      Illinois  \n",
       "14970      NaN                 12              25    Washington  \n",
       "14992      NaN                  1              34      New York  \n",
       "14999      NaN                  4              25      Illinois  \n",
       "\n",
       "[1074 rows x 8 columns]"
      ]
     },
     "execution_count": 438,
     "metadata": {},
     "output_type": "execute_result"
    }
   ],
   "source": [
    "df[df.revenue.isnull()]"
   ]
  },
  {
   "cell_type": "code",
   "execution_count": 439,
   "id": "0ad58554",
   "metadata": {},
   "outputs": [
    {
     "data": {
      "text/plain": [
       "Email           7466\n",
       "Call            4962\n",
       "Email + Call    2572\n",
       "Name: sales_method, dtype: int64"
      ]
     },
     "execution_count": 439,
     "metadata": {},
     "output_type": "execute_result"
    }
   ],
   "source": [
    "#need this cleaning step prior to visualization below\n",
    "#replacing values so that there are only three categories as described\n",
    "df.sales_method.replace({\"em + call\" : \"Email + Call\", \"email\" : \"Email\"}, inplace = True)\n",
    "df.sales_method.value_counts()"
   ]
  },
  {
   "cell_type": "code",
   "execution_count": 440,
   "id": "d6e6f55e",
   "metadata": {},
   "outputs": [
    {
     "data": {
      "text/plain": [
       "[<matplotlib.lines.Line2D at 0x1a8ccbf2250>]"
      ]
     },
     "execution_count": 440,
     "metadata": {},
     "output_type": "execute_result"
    },
    {
     "data": {
      "image/png": "[encoded data removed]",
      "text/plain": [
       "<Figure size 432x288 with 1 Axes>"
      ]
     },
     "metadata": {
      "needs_background": "light"
     },
     "output_type": "display_data"
    }
   ],
   "source": [
    "sns.scatterplot(x = 'nb_sold', y = 'revenue', data = df, hue = 'sales_method')\n",
    "plt.xlabel('Number Sold')\n",
    "plt.ylabel('Revenue')\n",
    "plt.title('Number Units Sold vs Revenue')\n",
    "X_plot_ec = np.linspace(6, 17, 100)\n",
    "Y_plot_ec = a_email_call*X_plot_ec+b_email_call\n",
    "plt.plot(X_plot_ec, Y_plot_ec, color = 'r')\n",
    "\n",
    "X_plot_e = np.linspace(6, 17, 100)\n",
    "Y_plot_e = a_email*X_plot_e+b_email\n",
    "plt.plot(X_plot_e, Y_plot_e, color = 'r')\n",
    "\n",
    "X_plot_c = np.linspace(6, 17, 100)\n",
    "Y_plot_c = a_call*X_plot_c+b_call\n",
    "plt.plot(X_plot_c, Y_plot_c, color = 'r')"
   ]
  },
  {
   "cell_type": "code",
   "execution_count": 441,
   "id": "c42bc82f",
   "metadata": {},
   "outputs": [
    {
     "data": {
      "text/plain": [
       "Email           544\n",
       "Email + Call    349\n",
       "Call            181\n",
       "Name: sales_method, dtype: int64"
      ]
     },
     "execution_count": 441,
     "metadata": {},
     "output_type": "execute_result"
    }
   ],
   "source": [
    "#looking at nulls\n",
    "df[df.revenue.isnull()].sales_method.value_counts()"
   ]
  },
  {
   "cell_type": "code",
   "execution_count": 442,
   "id": "038672fb",
   "metadata": {},
   "outputs": [
    {
     "data": {
      "text/plain": [
       "Call            0.036477\n",
       "Email           0.072864\n",
       "Email + Call    0.135692\n",
       "Name: sales_method, dtype: float64"
      ]
     },
     "execution_count": 442,
     "metadata": {},
     "output_type": "execute_result"
    }
   ],
   "source": [
    "#percentage of revenue nulls in each category\n",
    "df[df.revenue.isnull()].sales_method.value_counts() / df.sales_method.value_counts()"
   ]
  },
  {
   "cell_type": "code",
   "execution_count": 443,
   "id": "4ae905db",
   "metadata": {},
   "outputs": [],
   "source": [
    "df_no_null = df[~df.revenue.isnull()]"
   ]
  },
  {
   "cell_type": "code",
   "execution_count": 444,
   "id": "772dcc16",
   "metadata": {},
   "outputs": [],
   "source": [
    "a_email_call, b_email_call = np.polyfit(df_no_null.loc[(df_no_null.sales_method == 'Email + Call'), 'nb_sold'], \\\n",
    "                                        df_no_null.loc[(df_no_null.sales_method == 'Email + Call'), 'revenue'], 1)"
   ]
  },
  {
   "cell_type": "code",
   "execution_count": 445,
   "id": "3d797075",
   "metadata": {},
   "outputs": [
    {
     "name": "stdout",
     "output_type": "stream",
     "text": [
      "225.56742672415064 2.0791801432742627\n"
     ]
    }
   ],
   "source": [
    "print(a_email_call * 15 + b_email_call, b_email_call)"
   ]
  },
  {
   "cell_type": "code",
   "execution_count": 446,
   "id": "1982e658",
   "metadata": {},
   "outputs": [],
   "source": [
    "a_email, b_email = np.polyfit(df_no_null.loc[(df_no_null.sales_method == 'Email'), 'nb_sold'], \\\n",
    "                                        df_no_null.loc[(df_no_null.sales_method == 'Email'), 'revenue'], 1)"
   ]
  },
  {
   "cell_type": "code",
   "execution_count": 447,
   "id": "d3369bcd",
   "metadata": {},
   "outputs": [
    {
     "name": "stdout",
     "output_type": "stream",
     "text": [
      "145.6604560631582 7.7033913428769925\n"
     ]
    }
   ],
   "source": [
    "print(a_email * 15 + b_email, b_email)"
   ]
  },
  {
   "cell_type": "code",
   "execution_count": 448,
   "id": "82c321c4",
   "metadata": {},
   "outputs": [],
   "source": [
    "a_call, b_call = np.polyfit(df_no_null.loc[(df_no_null.sales_method == 'Call'), 'nb_sold'], \\\n",
    "                                        df_no_null.loc[(df_no_null.sales_method == 'Call'), 'revenue'], 1)"
   ]
  },
  {
   "cell_type": "code",
   "execution_count": 449,
   "id": "a7c70bd1",
   "metadata": {},
   "outputs": [
    {
     "name": "stdout",
     "output_type": "stream",
     "text": [
      "74.53821879531819 1.0508652938824983\n"
     ]
    }
   ],
   "source": [
    "print(a_call * 15 + b_call, b_call)"
   ]
  },
  {
   "cell_type": "code",
   "execution_count": 450,
   "id": "f8121fc0",
   "metadata": {},
   "outputs": [],
   "source": [
    "#filling values with above equations\n",
    "def fill_revenue(df):\n",
    "    new_series = np.zeros((len(df),1), dtype='float64')\n",
    "    for i in range(len(df)):\n",
    "        if pd.isnull(df.revenue.iloc[i]):\n",
    "            if df.sales_method.iloc[i] == 'Email':\n",
    "                new_series[i] = a_email * df.nb_sold.iloc[i] + b_email\n",
    "            elif df.sales_method.iloc[i] == 'Call':\n",
    "                new_series[i] = a_call * df.nb_sold.iloc[i] + b_call\n",
    "            else:\n",
    "                new_series[i] = a_email_call * df.nb_sold.iloc[i] + b_email_call\n",
    "        else: new_series[i] = df.revenue.iloc[i]\n",
    "    return new_series\n",
    "        \n",
    "            "
   ]
  },
  {
   "cell_type": "code",
   "execution_count": 451,
   "id": "192ae989",
   "metadata": {},
   "outputs": [
    {
     "data": {
      "text/plain": [
       "array([[ 99.67476782],\n",
       "       [225.47      ],\n",
       "       [ 52.55      ],\n",
       "       ...,\n",
       "       [ 34.87      ],\n",
       "       [ 64.9       ],\n",
       "       [195.76899385]])"
      ]
     },
     "execution_count": 451,
     "metadata": {},
     "output_type": "execute_result"
    }
   ],
   "source": [
    "fill_revenue(df)"
   ]
  },
  {
   "cell_type": "code",
   "execution_count": 452,
   "id": "fc1eb60d",
   "metadata": {},
   "outputs": [],
   "source": [
    "#filling revenue with most accurate value\n",
    "df['revenue'] = fill_revenue(df)"
   ]
  },
  {
   "cell_type": "code",
   "execution_count": 453,
   "id": "001671d6",
   "metadata": {},
   "outputs": [
    {
     "data": {
      "text/plain": [
       "[<matplotlib.lines.Line2D at 0x1a8ccdbe6a0>]"
      ]
     },
     "execution_count": 453,
     "metadata": {},
     "output_type": "execute_result"
    },
    {
     "data": {
      "image/png": "[encoded data removed]",
      "text/plain": [
       "<Figure size 432x288 with 1 Axes>"
      ]
     },
     "metadata": {
      "needs_background": "light"
     },
     "output_type": "display_data"
    }
   ],
   "source": [
    "#making sure we filled correctly\n",
    "sns.scatterplot(x = 'nb_sold', y = 'revenue', data = df, hue = 'sales_method')\n",
    "plt.xlabel('Number Sold')\n",
    "plt.ylabel('Revenue')\n",
    "plt.title('Number Units Sold vs Revenue')\n",
    "X_plot_ec = np.linspace(6, 17, 100)\n",
    "Y_plot_ec = a_email_call*X_plot_ec+b_email_call\n",
    "plt.plot(X_plot_ec, Y_plot_ec, color = 'r')\n",
    "\n",
    "X_plot_e = np.linspace(6, 17, 100)\n",
    "Y_plot_e = a_email*X_plot_e+b_email\n",
    "plt.plot(X_plot_e, Y_plot_e, color = 'r')\n",
    "\n",
    "X_plot_c = np.linspace(6, 17, 100)\n",
    "Y_plot_c = a_call*X_plot_c+b_call\n",
    "plt.plot(X_plot_c, Y_plot_c, color = 'r')"
   ]
  },
  {
   "cell_type": "code",
   "execution_count": 454,
   "id": "4dad15d9",
   "metadata": {},
   "outputs": [
    {
     "name": "stdout",
     "output_type": "stream",
     "text": [
      "<class 'pandas.core.frame.DataFrame'>\n",
      "RangeIndex: 15000 entries, 0 to 14999\n",
      "Data columns (total 8 columns):\n",
      " #   Column             Non-Null Count  Dtype  \n",
      "---  ------             --------------  -----  \n",
      " 0   week               15000 non-null  int64  \n",
      " 1   sales_method       15000 non-null  object \n",
      " 2   customer_id        15000 non-null  object \n",
      " 3   nb_sold            15000 non-null  int64  \n",
      " 4   revenue            15000 non-null  float64\n",
      " 5   years_as_customer  15000 non-null  int64  \n",
      " 6   nb_site_visits     15000 non-null  int64  \n",
      " 7   state              15000 non-null  object \n",
      "dtypes: float64(1), int64(4), object(3)\n",
      "memory usage: 937.6+ KB\n"
     ]
    }
   ],
   "source": [
    "df.info()"
   ]
  },
  {
   "cell_type": "code",
   "execution_count": 455,
   "id": "23b3144e",
   "metadata": {},
   "outputs": [
    {
     "data": {
      "text/plain": [
       "count    15000.000000\n",
       "mean         4.965933\n",
       "std          5.044952\n",
       "min          0.000000\n",
       "25%          1.000000\n",
       "50%          3.000000\n",
       "75%          7.000000\n",
       "max         63.000000\n",
       "Name: years_as_customer, dtype: float64"
      ]
     },
     "execution_count": 455,
     "metadata": {},
     "output_type": "execute_result"
    }
   ],
   "source": [
    "df.years_as_customer.describe()"
   ]
  },
  {
   "cell_type": "code",
   "execution_count": 456,
   "id": "d491f2e1",
   "metadata": {},
   "outputs": [
    {
     "data": {
      "text/plain": [
       "[]"
      ]
     },
     "execution_count": 456,
     "metadata": {},
     "output_type": "execute_result"
    },
    {
     "data": {
      "image/png": "[encoded data removed]",
      "text/plain": [
       "<Figure size 720x360 with 1 Axes>"
      ]
     },
     "metadata": {
      "needs_background": "light"
     },
     "output_type": "display_data"
    }
   ],
   "source": [
    "plt.figure(figsize=(10, 5))\n",
    "sns.boxplot(x = 'years_as_customer', data = df)\n",
    "plt.xlabel('Years as Customer')\n",
    "plt.title('Box Plot of Years as Customer')\n",
    "\n",
    "plt.plot()"
   ]
  },
  {
   "cell_type": "code",
   "execution_count": 457,
   "id": "958b85e6",
   "metadata": {},
   "outputs": [
    {
     "data": {
      "text/html": [
       "<div>\n",
       "<style scoped>\n",
       "    .dataframe tbody tr th:only-of-type {\n",
       "        vertical-align: middle;\n",
       "    }\n",
       "\n",
       "    .dataframe tbody tr th {\n",
       "        vertical-align: top;\n",
       "    }\n",
       "\n",
       "    .dataframe thead th {\n",
       "        text-align: right;\n",
       "    }\n",
       "</style>\n",
       "<table border=\"1\" class=\"dataframe\">\n",
       "  <thead>\n",
       "    <tr style=\"text-align: right;\">\n",
       "      <th></th>\n",
       "      <th>week</th>\n",
       "      <th>sales_method</th>\n",
       "      <th>customer_id</th>\n",
       "      <th>nb_sold</th>\n",
       "      <th>revenue</th>\n",
       "      <th>years_as_customer</th>\n",
       "      <th>nb_site_visits</th>\n",
       "      <th>state</th>\n",
       "    </tr>\n",
       "  </thead>\n",
       "  <tbody>\n",
       "    <tr>\n",
       "      <th>13741</th>\n",
       "      <td>2</td>\n",
       "      <td>Email</td>\n",
       "      <td>18919515-a618-430c-9a05-2c7d8fea96af</td>\n",
       "      <td>10</td>\n",
       "      <td>97.22</td>\n",
       "      <td>63</td>\n",
       "      <td>24</td>\n",
       "      <td>California</td>\n",
       "    </tr>\n",
       "    <tr>\n",
       "      <th>13800</th>\n",
       "      <td>4</td>\n",
       "      <td>Call</td>\n",
       "      <td>2ea97d34-571d-4e1b-95be-fea1c404649f</td>\n",
       "      <td>10</td>\n",
       "      <td>50.47</td>\n",
       "      <td>47</td>\n",
       "      <td>27</td>\n",
       "      <td>California</td>\n",
       "    </tr>\n",
       "  </tbody>\n",
       "</table>\n",
       "</div>"
      ],
      "text/plain": [
       "       week sales_method                           customer_id  nb_sold  \\\n",
       "13741     2        Email  18919515-a618-430c-9a05-2c7d8fea96af       10   \n",
       "13800     4         Call  2ea97d34-571d-4e1b-95be-fea1c404649f       10   \n",
       "\n",
       "       revenue  years_as_customer  nb_site_visits       state  \n",
       "13741    97.22                 63              24  California  \n",
       "13800    50.47                 47              27  California  "
      ]
     },
     "execution_count": 457,
     "metadata": {},
     "output_type": "execute_result"
    }
   ],
   "source": [
    "df[df.years_as_customer > 40]"
   ]
  },
  {
   "cell_type": "markdown",
   "id": "94249cdd",
   "metadata": {},
   "source": [
    "Two extreme outliers for years as customer that appear incorrect based on company founding year of 1984"
   ]
  },
  {
   "cell_type": "code",
   "execution_count": 458,
   "id": "2dd21d1b",
   "metadata": {},
   "outputs": [
    {
     "data": {
      "text/plain": [
       "count    15000.000000\n",
       "mean        24.990867\n",
       "std          3.500914\n",
       "min         12.000000\n",
       "25%         23.000000\n",
       "50%         25.000000\n",
       "75%         27.000000\n",
       "max         41.000000\n",
       "Name: nb_site_visits, dtype: float64"
      ]
     },
     "execution_count": 458,
     "metadata": {},
     "output_type": "execute_result"
    }
   ],
   "source": [
    "df.nb_site_visits.describe()"
   ]
  },
  {
   "cell_type": "code",
   "execution_count": 459,
   "id": "c0502c73",
   "metadata": {},
   "outputs": [
    {
     "data": {
      "text/plain": [
       "[]"
      ]
     },
     "execution_count": 459,
     "metadata": {},
     "output_type": "execute_result"
    },
    {
     "data": {
      "image/png": "[encoded data removed]",
      "text/plain": [
       "<Figure size 720x360 with 1 Axes>"
      ]
     },
     "metadata": {
      "needs_background": "light"
     },
     "output_type": "display_data"
    }
   ],
   "source": [
    "plt.figure(figsize=(10, 5))\n",
    "sns.boxplot(x = 'nb_site_visits', data = df)\n",
    "plt.xlabel('Number of Site Visits')\n",
    "plt.title('Box Plot of Number of Site Visits')\n",
    "\n",
    "plt.plot()"
   ]
  },
  {
   "cell_type": "code",
   "execution_count": 492,
   "id": "454db961",
   "metadata": {},
   "outputs": [
    {
     "data": {
      "text/plain": [
       "Text(0.5, 1.0, 'Number Site Visits vs Revenue')"
      ]
     },
     "execution_count": 492,
     "metadata": {},
     "output_type": "execute_result"
    },
    {
     "data": {
      "image/png": "[encoded data removed]",
      "text/plain": [
       "<Figure size 432x288 with 1 Axes>"
      ]
     },
     "metadata": {
      "needs_background": "light"
     },
     "output_type": "display_data"
    }
   ],
   "source": [
    "sns.scatterplot(x = 'nb_site_visits', y = 'revenue', data = df, hue = 'sales_method')\n",
    "plt.xlabel('Years as Customer')\n",
    "plt.ylabel('Revenue')\n",
    "plt.title('Number Site Visits vs Revenue')"
   ]
  },
  {
   "cell_type": "code",
   "execution_count": 461,
   "id": "7da6ab98",
   "metadata": {},
   "outputs": [
    {
     "data": {
      "text/plain": [
       "[]"
      ]
     },
     "execution_count": 461,
     "metadata": {},
     "output_type": "execute_result"
    },
    {
     "data": {
      "image/png": "[encoded data removed]",
      "text/plain": [
       "<Figure size 432x288 with 1 Axes>"
      ]
     },
     "metadata": {
      "needs_background": "light"
     },
     "output_type": "display_data"
    }
   ],
   "source": [
    "df.nb_site_visits.hist()\n",
    "plt.plot()"
   ]
  },
  {
   "cell_type": "code",
   "execution_count": 462,
   "id": "a242c361",
   "metadata": {},
   "outputs": [
    {
     "name": "stdout",
     "output_type": "stream",
     "text": [
      "50\n"
     ]
    },
    {
     "data": {
      "text/plain": [
       "Idaho            62\n",
       "New Hampshire    53\n",
       "Montana          45\n",
       "Rhode Island     43\n",
       "South Dakota     41\n",
       "Alaska           40\n",
       "Delaware         34\n",
       "Wyoming          33\n",
       "North Dakota     30\n",
       "Vermont          28\n",
       "Name: state, dtype: int64"
      ]
     },
     "execution_count": 462,
     "metadata": {},
     "output_type": "execute_result"
    }
   ],
   "source": [
    "print(df.state.nunique())\n",
    "df.state.value_counts().tail(10)"
   ]
  },
  {
   "cell_type": "code",
   "execution_count": 463,
   "id": "a9ef7721",
   "metadata": {},
   "outputs": [
    {
     "data": {
      "text/plain": [
       "Text(0.5, 1.0, 'Count of Number of Sales by State')"
      ]
     },
     "execution_count": 463,
     "metadata": {},
     "output_type": "execute_result"
    },
    {
     "data": {
      "image/png": "[encoded data removed]",
      "text/plain": [
       "<Figure size 432x288 with 1 Axes>"
      ]
     },
     "metadata": {
      "needs_background": "light"
     },
     "output_type": "display_data"
    }
   ],
   "source": [
    "sns.countplot(y= 'state', data=df, order=df.state.value_counts().iloc[:10].index)\n",
    "plt.title('Count of Number of Sales by State')"
   ]
  },
  {
   "cell_type": "markdown",
   "id": "a6d0021b",
   "metadata": {},
   "source": [
    "All 50 states are represented"
   ]
  },
  {
   "cell_type": "markdown",
   "id": "1c3a3198",
   "metadata": {},
   "source": [
    "## Data Cleaning"
   ]
  },
  {
   "cell_type": "code",
   "execution_count": 464,
   "id": "89568cf8",
   "metadata": {},
   "outputs": [],
   "source": [
    "df['rev_per_unit'] = df['revenue'] / df['nb_sold']"
   ]
  },
  {
   "cell_type": "code",
   "execution_count": 465,
   "id": "8429940f",
   "metadata": {},
   "outputs": [
    {
     "data": {
      "text/plain": [
       "Email           7466\n",
       "Call            4962\n",
       "Email + Call    2572\n",
       "Name: sales_method, dtype: int64"
      ]
     },
     "execution_count": 465,
     "metadata": {},
     "output_type": "execute_result"
    }
   ],
   "source": [
    "#replacing values so that there are only three categories as described\n",
    "df.sales_method.replace({\"em + call\" : \"Email + Call\", \"email\" : \"Email\"}, inplace = True)\n",
    "df.sales_method.value_counts()"
   ]
  },
  {
   "cell_type": "code",
   "execution_count": 466,
   "id": "2ec12102",
   "metadata": {},
   "outputs": [
    {
     "data": {
      "text/plain": [
       "count    15000.000000\n",
       "mean         4.959000\n",
       "std          5.010954\n",
       "min          0.000000\n",
       "25%          1.000000\n",
       "50%          3.000000\n",
       "75%          7.000000\n",
       "max         39.000000\n",
       "Name: years_as_customer, dtype: float64"
      ]
     },
     "execution_count": 466,
     "metadata": {},
     "output_type": "execute_result"
    }
   ],
   "source": [
    "# replacing wrong values in years as customer with median (3)\n",
    "# shouldn't have a major affect on the data\n",
    "df.years_as_customer.mask(df.years_as_customer > 40, round(df.years_as_customer.median(), 0), inplace = True)\n",
    "df.years_as_customer.describe()"
   ]
  },
  {
   "cell_type": "markdown",
   "id": "22e34626",
   "metadata": {},
   "source": [
    "## Data Analysis and Viz"
   ]
  },
  {
   "cell_type": "markdown",
   "id": "5c4155c6",
   "metadata": {},
   "source": [
    "### How many customers were there for each sales method?"
   ]
  },
  {
   "cell_type": "code",
   "execution_count": 467,
   "id": "8c73c505",
   "metadata": {},
   "outputs": [
    {
     "data": {
      "text/plain": [
       "[]"
      ]
     },
     "execution_count": 467,
     "metadata": {},
     "output_type": "execute_result"
    },
    {
     "data": {
      "image/png": "[encoded data removed]",
      "text/plain": [
       "<Figure size 432x288 with 1 Axes>"
      ]
     },
     "metadata": {
      "needs_background": "light"
     },
     "output_type": "display_data"
    }
   ],
   "source": [
    "df.boxplot(column = 'nb_sold', by = 'sales_method')\n",
    "plt.xlabel('Number of Units Sold')\n",
    "plt.ylabel('Count')\n",
    "plt.title('Histogram of Number of Units Sold')\n",
    "plt.plot()"
   ]
  },
  {
   "cell_type": "code",
   "execution_count": 468,
   "id": "28da37d2",
   "metadata": {},
   "outputs": [
    {
     "data": {
      "text/plain": [
       "Text(0.5, 1.0, 'Number Units Sold vs Revenue')"
      ]
     },
     "execution_count": 468,
     "metadata": {},
     "output_type": "execute_result"
    },
    {
     "data": {
      "image/png": "[encoded data removed]",
      "text/plain": [
       "<Figure size 432x288 with 1 Axes>"
      ]
     },
     "metadata": {
      "needs_background": "light"
     },
     "output_type": "display_data"
    }
   ],
   "source": [
    "sns.scatterplot(x = 'nb_sold', y = 'revenue', data = df, hue = 'sales_method')\n",
    "plt.xlabel('Number Sold')\n",
    "plt.ylabel('Revenue')\n",
    "plt.title('Number Units Sold vs Revenue')"
   ]
  },
  {
   "cell_type": "code",
   "execution_count": 469,
   "id": "b97c6a01",
   "metadata": {},
   "outputs": [
    {
     "data": {
      "text/plain": [
       "Email           7466\n",
       "Call            4962\n",
       "Email + Call    2572\n",
       "Name: sales_method, dtype: int64"
      ]
     },
     "execution_count": 469,
     "metadata": {},
     "output_type": "execute_result"
    }
   ],
   "source": [
    "df.sales_method.value_counts()"
   ]
  },
  {
   "cell_type": "markdown",
   "id": "29538be9",
   "metadata": {},
   "source": [
    "Some sort of systematic missing data. Revenue missing most for email + call data."
   ]
  },
  {
   "cell_type": "code",
   "execution_count": 470,
   "id": "cedebbb0",
   "metadata": {},
   "outputs": [
    {
     "data": {
      "text/plain": [
       "[]"
      ]
     },
     "execution_count": 470,
     "metadata": {},
     "output_type": "execute_result"
    },
    {
     "data": {
      "image/png": "[encoded data removed]",
      "text/plain": [
       "<Figure size 432x288 with 1 Axes>"
      ]
     },
     "metadata": {
      "needs_background": "light"
     },
     "output_type": "display_data"
    }
   ],
   "source": [
    "sns.countplot(x = 'sales_method', order = ['Email', 'Call', 'Email + Call'], data = df)\n",
    "plt.xlabel('Sales Method')\n",
    "plt.ylabel('Customers')\n",
    "plt.title('Number of Customers by Method')\n",
    "plt.plot()"
   ]
  },
  {
   "cell_type": "code",
   "execution_count": 471,
   "id": "02a1702d",
   "metadata": {},
   "outputs": [],
   "source": [
    "#could have countplots side by side?"
   ]
  },
  {
   "cell_type": "markdown",
   "id": "4134afa2",
   "metadata": {},
   "source": [
    "### What does the spread of the revenue look like overall? And for each method?"
   ]
  },
  {
   "cell_type": "code",
   "execution_count": 472,
   "id": "93a81c89",
   "metadata": {},
   "outputs": [
    {
     "data": {
      "text/html": [
       "<div>\n",
       "<style scoped>\n",
       "    .dataframe tbody tr th:only-of-type {\n",
       "        vertical-align: middle;\n",
       "    }\n",
       "\n",
       "    .dataframe tbody tr th {\n",
       "        vertical-align: top;\n",
       "    }\n",
       "\n",
       "    .dataframe thead th {\n",
       "        text-align: right;\n",
       "    }\n",
       "</style>\n",
       "<table border=\"1\" class=\"dataframe\">\n",
       "  <thead>\n",
       "    <tr style=\"text-align: right;\">\n",
       "      <th></th>\n",
       "      <th>week</th>\n",
       "      <th>sales_method</th>\n",
       "      <th>customer_id</th>\n",
       "      <th>nb_sold</th>\n",
       "      <th>revenue</th>\n",
       "      <th>years_as_customer</th>\n",
       "      <th>nb_site_visits</th>\n",
       "      <th>state</th>\n",
       "      <th>rev_per_unit</th>\n",
       "    </tr>\n",
       "  </thead>\n",
       "  <tbody>\n",
       "    <tr>\n",
       "      <th>0</th>\n",
       "      <td>2</td>\n",
       "      <td>Email</td>\n",
       "      <td>2e72d641-95ac-497b-bbf8-4861764a7097</td>\n",
       "      <td>10</td>\n",
       "      <td>90.991692</td>\n",
       "      <td>0</td>\n",
       "      <td>24</td>\n",
       "      <td>Arizona</td>\n",
       "      <td>NaN</td>\n",
       "    </tr>\n",
       "    <tr>\n",
       "      <th>1</th>\n",
       "      <td>6</td>\n",
       "      <td>Email + Call</td>\n",
       "      <td>3998a98d-70f5-44f7-942e-789bb8ad2fe7</td>\n",
       "      <td>15</td>\n",
       "      <td>225.470000</td>\n",
       "      <td>1</td>\n",
       "      <td>28</td>\n",
       "      <td>Kansas</td>\n",
       "      <td>15.03</td>\n",
       "    </tr>\n",
       "    <tr>\n",
       "      <th>2</th>\n",
       "      <td>5</td>\n",
       "      <td>Call</td>\n",
       "      <td>d1de9884-8059-4065-b10f-86eef57e4a44</td>\n",
       "      <td>11</td>\n",
       "      <td>52.550000</td>\n",
       "      <td>6</td>\n",
       "      <td>26</td>\n",
       "      <td>Wisconsin</td>\n",
       "      <td>4.78</td>\n",
       "    </tr>\n",
       "    <tr>\n",
       "      <th>3</th>\n",
       "      <td>4</td>\n",
       "      <td>Email</td>\n",
       "      <td>78aa75a4-ffeb-4817-b1d0-2f030783c5d7</td>\n",
       "      <td>11</td>\n",
       "      <td>100.090861</td>\n",
       "      <td>3</td>\n",
       "      <td>25</td>\n",
       "      <td>Indiana</td>\n",
       "      <td>NaN</td>\n",
       "    </tr>\n",
       "    <tr>\n",
       "      <th>4</th>\n",
       "      <td>3</td>\n",
       "      <td>Email</td>\n",
       "      <td>10e6d446-10a5-42e5-8210-1b5438f70922</td>\n",
       "      <td>9</td>\n",
       "      <td>90.490000</td>\n",
       "      <td>0</td>\n",
       "      <td>28</td>\n",
       "      <td>Illinois</td>\n",
       "      <td>10.05</td>\n",
       "    </tr>\n",
       "    <tr>\n",
       "      <th>...</th>\n",
       "      <td>...</td>\n",
       "      <td>...</td>\n",
       "      <td>...</td>\n",
       "      <td>...</td>\n",
       "      <td>...</td>\n",
       "      <td>...</td>\n",
       "      <td>...</td>\n",
       "      <td>...</td>\n",
       "      <td>...</td>\n",
       "    </tr>\n",
       "    <tr>\n",
       "      <th>14995</th>\n",
       "      <td>4</td>\n",
       "      <td>Call</td>\n",
       "      <td>17267b41-d048-4346-8b90-7f787690a836</td>\n",
       "      <td>10</td>\n",
       "      <td>50.820000</td>\n",
       "      <td>0</td>\n",
       "      <td>22</td>\n",
       "      <td>Pennsylvania</td>\n",
       "      <td>5.08</td>\n",
       "    </tr>\n",
       "    <tr>\n",
       "      <th>14996</th>\n",
       "      <td>5</td>\n",
       "      <td>Call</td>\n",
       "      <td>09e10d6f-4508-4b27-895e-4db11ce8302b</td>\n",
       "      <td>10</td>\n",
       "      <td>52.330000</td>\n",
       "      <td>1</td>\n",
       "      <td>27</td>\n",
       "      <td>Kansas</td>\n",
       "      <td>5.23</td>\n",
       "    </tr>\n",
       "    <tr>\n",
       "      <th>14997</th>\n",
       "      <td>1</td>\n",
       "      <td>Call</td>\n",
       "      <td>839653cb-68c9-48cb-a097-0a5a3b2b298b</td>\n",
       "      <td>7</td>\n",
       "      <td>34.870000</td>\n",
       "      <td>4</td>\n",
       "      <td>22</td>\n",
       "      <td>West Virginia</td>\n",
       "      <td>4.98</td>\n",
       "    </tr>\n",
       "    <tr>\n",
       "      <th>14998</th>\n",
       "      <td>6</td>\n",
       "      <td>Call</td>\n",
       "      <td>e4dad70a-b23b-407c-8bd3-e32ea00fae17</td>\n",
       "      <td>13</td>\n",
       "      <td>64.900000</td>\n",
       "      <td>2</td>\n",
       "      <td>27</td>\n",
       "      <td>New Jersey</td>\n",
       "      <td>4.99</td>\n",
       "    </tr>\n",
       "    <tr>\n",
       "      <th>14999</th>\n",
       "      <td>5</td>\n",
       "      <td>Email + Call</td>\n",
       "      <td>4e077235-7c17-4054-9997-7a890336a214</td>\n",
       "      <td>13</td>\n",
       "      <td>118.289199</td>\n",
       "      <td>4</td>\n",
       "      <td>25</td>\n",
       "      <td>Illinois</td>\n",
       "      <td>NaN</td>\n",
       "    </tr>\n",
       "  </tbody>\n",
       "</table>\n",
       "<p>15000 rows × 9 columns</p>\n",
       "</div>"
      ],
      "text/plain": [
       "       week  sales_method                           customer_id  nb_sold  \\\n",
       "0         2         Email  2e72d641-95ac-497b-bbf8-4861764a7097       10   \n",
       "1         6  Email + Call  3998a98d-70f5-44f7-942e-789bb8ad2fe7       15   \n",
       "2         5          Call  d1de9884-8059-4065-b10f-86eef57e4a44       11   \n",
       "3         4         Email  78aa75a4-ffeb-4817-b1d0-2f030783c5d7       11   \n",
       "4         3         Email  10e6d446-10a5-42e5-8210-1b5438f70922        9   \n",
       "...     ...           ...                                   ...      ...   \n",
       "14995     4          Call  17267b41-d048-4346-8b90-7f787690a836       10   \n",
       "14996     5          Call  09e10d6f-4508-4b27-895e-4db11ce8302b       10   \n",
       "14997     1          Call  839653cb-68c9-48cb-a097-0a5a3b2b298b        7   \n",
       "14998     6          Call  e4dad70a-b23b-407c-8bd3-e32ea00fae17       13   \n",
       "14999     5  Email + Call  4e077235-7c17-4054-9997-7a890336a214       13   \n",
       "\n",
       "          revenue  years_as_customer  nb_site_visits          state  \\\n",
       "0       90.991692                  0              24        Arizona   \n",
       "1      225.470000                  1              28         Kansas   \n",
       "2       52.550000                  6              26      Wisconsin   \n",
       "3      100.090861                  3              25        Indiana   \n",
       "4       90.490000                  0              28       Illinois   \n",
       "...           ...                ...             ...            ...   \n",
       "14995   50.820000                  0              22   Pennsylvania   \n",
       "14996   52.330000                  1              27         Kansas   \n",
       "14997   34.870000                  4              22  West Virginia   \n",
       "14998   64.900000                  2              27     New Jersey   \n",
       "14999  118.289199                  4              25       Illinois   \n",
       "\n",
       "       rev_per_unit  \n",
       "0               NaN  \n",
       "1             15.03  \n",
       "2              4.78  \n",
       "3               NaN  \n",
       "4             10.05  \n",
       "...             ...  \n",
       "14995          5.08  \n",
       "14996          5.23  \n",
       "14997          4.98  \n",
       "14998          4.99  \n",
       "14999           NaN  \n",
       "\n",
       "[15000 rows x 9 columns]"
      ]
     },
     "execution_count": 472,
     "metadata": {},
     "output_type": "execute_result"
    }
   ],
   "source": [
    "df_revenue"
   ]
  },
  {
   "cell_type": "code",
   "execution_count": 473,
   "id": "bbce165a",
   "metadata": {},
   "outputs": [
    {
     "data": {
      "text/plain": [
       "Series([], Name: sales_method, dtype: int64)"
      ]
     },
     "execution_count": 473,
     "metadata": {},
     "output_type": "execute_result"
    }
   ],
   "source": [
    "df[df.revenue.isnull()].sales_method.value_counts()"
   ]
  },
  {
   "cell_type": "code",
   "execution_count": 474,
   "id": "e6998e28",
   "metadata": {},
   "outputs": [
    {
     "data": {
      "text/plain": [
       "[]"
      ]
     },
     "execution_count": 474,
     "metadata": {},
     "output_type": "execute_result"
    },
    {
     "data": {
      "image/png": "[encoded data removed]",
      "text/plain": [
       "<Figure size 720x216 with 1 Axes>"
      ]
     },
     "metadata": {
      "needs_background": "light"
     },
     "output_type": "display_data"
    }
   ],
   "source": [
    "plt.figure(figsize=(10, 3))\n",
    "sns.boxplot(x = 'revenue', data = df )\n",
    "plt.xlabel('Revenue')\n",
    "plt.title('Boxplot of Revenue by Customer')\n",
    "plt.plot()"
   ]
  },
  {
   "cell_type": "code",
   "execution_count": 475,
   "id": "9631f4c5",
   "metadata": {},
   "outputs": [
    {
     "data": {
      "text/plain": [
       "[]"
      ]
     },
     "execution_count": 475,
     "metadata": {},
     "output_type": "execute_result"
    },
    {
     "data": {
      "image/png": "[encoded data removed]",
      "text/plain": [
       "<Figure size 720x360 with 1 Axes>"
      ]
     },
     "metadata": {
      "needs_background": "light"
     },
     "output_type": "display_data"
    }
   ],
   "source": [
    "plt.figure(figsize=(10, 5))\n",
    "sns.boxplot(x = 'revenue', y = 'sales_method', data = df )\n",
    "plt.xlabel('Revenue')\n",
    "plt.ylabel('Sales Method')\n",
    "plt.title('Boxplot of Revenue by Method')\n",
    "plt.plot()"
   ]
  },
  {
   "cell_type": "markdown",
   "id": "a641eb20",
   "metadata": {},
   "source": [
    "### Was there any difference in revenue over time for each of the methods?"
   ]
  },
  {
   "cell_type": "code",
   "execution_count": 476,
   "id": "02d4e5bc",
   "metadata": {},
   "outputs": [
    {
     "data": {
      "text/plain": [
       "sales_method\n",
       "Call            243605.325264\n",
       "Email           720870.996744\n",
       "Email + Call    447865.373440\n",
       "Name: revenue, dtype: float64"
      ]
     },
     "execution_count": 476,
     "metadata": {},
     "output_type": "execute_result"
    }
   ],
   "source": [
    "df_revenue.groupby('sales_method')['revenue'].agg('sum')"
   ]
  },
  {
   "cell_type": "code",
   "execution_count": 477,
   "id": "79481f76",
   "metadata": {},
   "outputs": [
    {
     "data": {
      "text/plain": [
       "sales_method  week\n",
       "Call          1        27314.774486\n",
       "              2        36203.299833\n",
       "              3        38785.938201\n",
       "              4        53397.442717\n",
       "              5        57139.579334\n",
       "              6        30764.290694\n",
       "Email         1       244751.881639\n",
       "              2       147855.160252\n",
       "              3       106116.971190\n",
       "              4       116214.200661\n",
       "              5        80324.306644\n",
       "              6        25608.476359\n",
       "Email + Call  1        18232.007039\n",
       "              2        29051.385739\n",
       "              3        51921.849213\n",
       "              4        85102.378547\n",
       "              5       139430.267653\n",
       "              6       124127.485251\n",
       "Name: revenue, dtype: float64"
      ]
     },
     "execution_count": 477,
     "metadata": {},
     "output_type": "execute_result"
    }
   ],
   "source": [
    "#sum of revenue is important\n",
    "df_revenue.groupby(['sales_method', 'week'])['revenue'].agg('sum')"
   ]
  },
  {
   "cell_type": "code",
   "execution_count": 489,
   "id": "2662d988",
   "metadata": {},
   "outputs": [
    {
     "data": {
      "text/html": [
       "<div>\n",
       "<style scoped>\n",
       "    .dataframe tbody tr th:only-of-type {\n",
       "        vertical-align: middle;\n",
       "    }\n",
       "\n",
       "    .dataframe tbody tr th {\n",
       "        vertical-align: top;\n",
       "    }\n",
       "\n",
       "    .dataframe thead th {\n",
       "        text-align: right;\n",
       "    }\n",
       "</style>\n",
       "<table border=\"1\" class=\"dataframe\">\n",
       "  <thead>\n",
       "    <tr style=\"text-align: right;\">\n",
       "      <th></th>\n",
       "      <th>revenue</th>\n",
       "    </tr>\n",
       "    <tr>\n",
       "      <th>state</th>\n",
       "      <th></th>\n",
       "    </tr>\n",
       "  </thead>\n",
       "  <tbody>\n",
       "    <tr>\n",
       "      <th>Alabama</th>\n",
       "      <td>97.210975</td>\n",
       "    </tr>\n",
       "    <tr>\n",
       "      <th>Alaska</th>\n",
       "      <td>92.283628</td>\n",
       "    </tr>\n",
       "    <tr>\n",
       "      <th>Arizona</th>\n",
       "      <td>92.477424</td>\n",
       "    </tr>\n",
       "    <tr>\n",
       "      <th>Arkansas</th>\n",
       "      <td>91.847414</td>\n",
       "    </tr>\n",
       "    <tr>\n",
       "      <th>California</th>\n",
       "      <td>92.879657</td>\n",
       "    </tr>\n",
       "    <tr>\n",
       "      <th>Colorado</th>\n",
       "      <td>92.734422</td>\n",
       "    </tr>\n",
       "    <tr>\n",
       "      <th>Connecticut</th>\n",
       "      <td>98.065588</td>\n",
       "    </tr>\n",
       "    <tr>\n",
       "      <th>Delaware</th>\n",
       "      <td>102.395765</td>\n",
       "    </tr>\n",
       "    <tr>\n",
       "      <th>Florida</th>\n",
       "      <td>94.352934</td>\n",
       "    </tr>\n",
       "    <tr>\n",
       "      <th>Georgia</th>\n",
       "      <td>94.816854</td>\n",
       "    </tr>\n",
       "    <tr>\n",
       "      <th>Hawaii</th>\n",
       "      <td>97.963914</td>\n",
       "    </tr>\n",
       "    <tr>\n",
       "      <th>Idaho</th>\n",
       "      <td>101.276883</td>\n",
       "    </tr>\n",
       "    <tr>\n",
       "      <th>Illinois</th>\n",
       "      <td>91.805325</td>\n",
       "    </tr>\n",
       "    <tr>\n",
       "      <th>Indiana</th>\n",
       "      <td>93.860543</td>\n",
       "    </tr>\n",
       "    <tr>\n",
       "      <th>Iowa</th>\n",
       "      <td>91.774689</td>\n",
       "    </tr>\n",
       "    <tr>\n",
       "      <th>Kansas</th>\n",
       "      <td>92.941094</td>\n",
       "    </tr>\n",
       "    <tr>\n",
       "      <th>Kentucky</th>\n",
       "      <td>94.060244</td>\n",
       "    </tr>\n",
       "    <tr>\n",
       "      <th>Louisiana</th>\n",
       "      <td>94.929661</td>\n",
       "    </tr>\n",
       "    <tr>\n",
       "      <th>Maine</th>\n",
       "      <td>88.764525</td>\n",
       "    </tr>\n",
       "    <tr>\n",
       "      <th>Maryland</th>\n",
       "      <td>93.536330</td>\n",
       "    </tr>\n",
       "    <tr>\n",
       "      <th>Massachusetts</th>\n",
       "      <td>93.538715</td>\n",
       "    </tr>\n",
       "    <tr>\n",
       "      <th>Michigan</th>\n",
       "      <td>95.437001</td>\n",
       "    </tr>\n",
       "    <tr>\n",
       "      <th>Minnesota</th>\n",
       "      <td>94.098713</td>\n",
       "    </tr>\n",
       "    <tr>\n",
       "      <th>Mississippi</th>\n",
       "      <td>99.967195</td>\n",
       "    </tr>\n",
       "    <tr>\n",
       "      <th>Missouri</th>\n",
       "      <td>91.692532</td>\n",
       "    </tr>\n",
       "    <tr>\n",
       "      <th>Montana</th>\n",
       "      <td>83.515871</td>\n",
       "    </tr>\n",
       "    <tr>\n",
       "      <th>Nebraska</th>\n",
       "      <td>98.357950</td>\n",
       "    </tr>\n",
       "    <tr>\n",
       "      <th>Nevada</th>\n",
       "      <td>98.366758</td>\n",
       "    </tr>\n",
       "    <tr>\n",
       "      <th>New Hampshire</th>\n",
       "      <td>92.313367</td>\n",
       "    </tr>\n",
       "    <tr>\n",
       "      <th>New Jersey</th>\n",
       "      <td>91.250113</td>\n",
       "    </tr>\n",
       "    <tr>\n",
       "      <th>New Mexico</th>\n",
       "      <td>97.957442</td>\n",
       "    </tr>\n",
       "    <tr>\n",
       "      <th>New York</th>\n",
       "      <td>92.758619</td>\n",
       "    </tr>\n",
       "    <tr>\n",
       "      <th>North Carolina</th>\n",
       "      <td>89.845082</td>\n",
       "    </tr>\n",
       "    <tr>\n",
       "      <th>North Dakota</th>\n",
       "      <td>101.592976</td>\n",
       "    </tr>\n",
       "    <tr>\n",
       "      <th>Ohio</th>\n",
       "      <td>92.686279</td>\n",
       "    </tr>\n",
       "    <tr>\n",
       "      <th>Oklahoma</th>\n",
       "      <td>96.071158</td>\n",
       "    </tr>\n",
       "    <tr>\n",
       "      <th>Oregon</th>\n",
       "      <td>98.217469</td>\n",
       "    </tr>\n",
       "    <tr>\n",
       "      <th>Pennsylvania</th>\n",
       "      <td>93.355290</td>\n",
       "    </tr>\n",
       "    <tr>\n",
       "      <th>Rhode Island</th>\n",
       "      <td>95.836842</td>\n",
       "    </tr>\n",
       "    <tr>\n",
       "      <th>South Carolina</th>\n",
       "      <td>100.201649</td>\n",
       "    </tr>\n",
       "    <tr>\n",
       "      <th>South Dakota</th>\n",
       "      <td>105.079514</td>\n",
       "    </tr>\n",
       "    <tr>\n",
       "      <th>Tennessee</th>\n",
       "      <td>90.929635</td>\n",
       "    </tr>\n",
       "    <tr>\n",
       "      <th>Texas</th>\n",
       "      <td>95.635375</td>\n",
       "    </tr>\n",
       "    <tr>\n",
       "      <th>Utah</th>\n",
       "      <td>99.379995</td>\n",
       "    </tr>\n",
       "    <tr>\n",
       "      <th>Vermont</th>\n",
       "      <td>102.997055</td>\n",
       "    </tr>\n",
       "    <tr>\n",
       "      <th>Virginia</th>\n",
       "      <td>97.646330</td>\n",
       "    </tr>\n",
       "    <tr>\n",
       "      <th>Washington</th>\n",
       "      <td>98.102283</td>\n",
       "    </tr>\n",
       "    <tr>\n",
       "      <th>West Virginia</th>\n",
       "      <td>100.031963</td>\n",
       "    </tr>\n",
       "    <tr>\n",
       "      <th>Wisconsin</th>\n",
       "      <td>94.036069</td>\n",
       "    </tr>\n",
       "    <tr>\n",
       "      <th>Wyoming</th>\n",
       "      <td>96.118208</td>\n",
       "    </tr>\n",
       "  </tbody>\n",
       "</table>\n",
       "</div>"
      ],
      "text/plain": [
       "                   revenue\n",
       "state                     \n",
       "Alabama          97.210975\n",
       "Alaska           92.283628\n",
       "Arizona          92.477424\n",
       "Arkansas         91.847414\n",
       "California       92.879657\n",
       "Colorado         92.734422\n",
       "Connecticut      98.065588\n",
       "Delaware        102.395765\n",
       "Florida          94.352934\n",
       "Georgia          94.816854\n",
       "Hawaii           97.963914\n",
       "Idaho           101.276883\n",
       "Illinois         91.805325\n",
       "Indiana          93.860543\n",
       "Iowa             91.774689\n",
       "Kansas           92.941094\n",
       "Kentucky         94.060244\n",
       "Louisiana        94.929661\n",
       "Maine            88.764525\n",
       "Maryland         93.536330\n",
       "Massachusetts    93.538715\n",
       "Michigan         95.437001\n",
       "Minnesota        94.098713\n",
       "Mississippi      99.967195\n",
       "Missouri         91.692532\n",
       "Montana          83.515871\n",
       "Nebraska         98.357950\n",
       "Nevada           98.366758\n",
       "New Hampshire    92.313367\n",
       "New Jersey       91.250113\n",
       "New Mexico       97.957442\n",
       "New York         92.758619\n",
       "North Carolina   89.845082\n",
       "North Dakota    101.592976\n",
       "Ohio             92.686279\n",
       "Oklahoma         96.071158\n",
       "Oregon           98.217469\n",
       "Pennsylvania     93.355290\n",
       "Rhode Island     95.836842\n",
       "South Carolina  100.201649\n",
       "South Dakota    105.079514\n",
       "Tennessee        90.929635\n",
       "Texas            95.635375\n",
       "Utah             99.379995\n",
       "Vermont         102.997055\n",
       "Virginia         97.646330\n",
       "Washington       98.102283\n",
       "West Virginia   100.031963\n",
       "Wisconsin        94.036069\n",
       "Wyoming          96.118208"
      ]
     },
     "execution_count": 489,
     "metadata": {},
     "output_type": "execute_result"
    }
   ],
   "source": [
    "#revenue by state\n",
    "state_revenue = pd.DataFrame(df_revenue.groupby(['state'])['revenue'].agg('mean'))\n",
    "state_revenue"
   ]
  },
  {
   "cell_type": "code",
   "execution_count": 478,
   "id": "01001123",
   "metadata": {},
   "outputs": [],
   "source": [
    "#sum of revenue is important\n",
    "sum_revenue = pd.DataFrame(df_revenue.groupby(['sales_method', 'week'])['revenue'].agg('sum'))\n",
    "sum_revenue_pivot = sum_revenue.reset_index().pivot_table(index = 'week', values = 'revenue', columns = 'sales_method', aggfunc = 'sum')"
   ]
  },
  {
   "cell_type": "code",
   "execution_count": 479,
   "id": "6233bfa1",
   "metadata": {},
   "outputs": [
    {
     "data": {
      "text/plain": [
       "[]"
      ]
     },
     "execution_count": 479,
     "metadata": {},
     "output_type": "execute_result"
    },
    {
     "data": {
      "text/plain": [
       "<Figure size 720x432 with 0 Axes>"
      ]
     },
     "metadata": {},
     "output_type": "display_data"
    },
    {
     "data": {
      "image/png": "[encoded data removed]",
      "text/plain": [
       "<Figure size 432x288 with 1 Axes>"
      ]
     },
     "metadata": {
      "needs_background": "light"
     },
     "output_type": "display_data"
    }
   ],
   "source": [
    "plt.figure(figsize=(10, 6))\n",
    "sum_revenue_pivot.plot(legend = True)\n",
    "plt.xlabel('Week')\n",
    "plt.ylabel('Total Weekly Revenue')\n",
    "plt.title('Total Weekly Revenue by Sales Method')\n",
    "plt.plot()"
   ]
  },
  {
   "cell_type": "code",
   "execution_count": 480,
   "id": "798c9496",
   "metadata": {},
   "outputs": [],
   "source": [
    "#count of revenue is also important\n",
    "count_revenue = df_revenue.groupby(['sales_method', 'week'])['revenue'].agg('count')\n",
    "count_revenue_pivot = count_revenue.reset_index().pivot_table(index = 'week', values = 'revenue', columns = 'sales_method', aggfunc = 'sum')"
   ]
  },
  {
   "cell_type": "code",
   "execution_count": 481,
   "id": "f007e608",
   "metadata": {},
   "outputs": [
    {
     "data": {
      "text/plain": [
       "[]"
      ]
     },
     "execution_count": 481,
     "metadata": {},
     "output_type": "execute_result"
    },
    {
     "data": {
      "image/png": "[encoded data removed]",
      "text/plain": [
       "<Figure size 432x288 with 1 Axes>"
      ]
     },
     "metadata": {
      "needs_background": "light"
     },
     "output_type": "display_data"
    }
   ],
   "source": [
    "count_revenue_pivot.plot(legend = True)\n",
    "plt.xlabel('Week')\n",
    "plt.ylabel('Total Weekly Customers')\n",
    "plt.title('Total Weekly Customers by Sales Method')\n",
    "plt.plot()\n",
    "plt.plot()"
   ]
  },
  {
   "cell_type": "code",
   "execution_count": 482,
   "id": "f3f57de4",
   "metadata": {},
   "outputs": [],
   "source": [
    "#avg revenue is also important\n",
    "avg_revenue = df.groupby(['sales_method', 'week'])['revenue'].agg('mean')\n",
    "avg_revenue_pivot = avg_revenue.reset_index().pivot_table(index = 'week', values = 'revenue', columns = 'sales_method', aggfunc = 'mean')"
   ]
  },
  {
   "cell_type": "code",
   "execution_count": 483,
   "id": "7b9f5790",
   "metadata": {},
   "outputs": [
    {
     "data": {
      "text/plain": [
       "[]"
      ]
     },
     "execution_count": 483,
     "metadata": {},
     "output_type": "execute_result"
    },
    {
     "data": {
      "image/png": "[encoded data removed]",
      "text/plain": [
       "<Figure size 432x288 with 1 Axes>"
      ]
     },
     "metadata": {
      "needs_background": "light"
     },
     "output_type": "display_data"
    }
   ],
   "source": [
    "avg_revenue_pivot.plot(legend = True)\n",
    "plt.xlabel('Week')\n",
    "plt.ylabel('Average Revenue per Customer')\n",
    "plt.title('Average Revenue per Customer by Sales Method')\n",
    "plt.plot()\n",
    "plt.plot()"
   ]
  },
  {
   "cell_type": "code",
   "execution_count": 484,
   "id": "ed3f3fde",
   "metadata": {},
   "outputs": [],
   "source": [
    "sum_units = pd.DataFrame(df.groupby(['sales_method', 'week'])['nb_sold'].agg('sum'))\n",
    "sum_units_pivot = sum_units.reset_index().pivot_table(index = 'week', values = 'nb_sold', columns = 'sales_method', aggfunc = 'sum')"
   ]
  },
  {
   "cell_type": "code",
   "execution_count": 485,
   "id": "f441349b",
   "metadata": {},
   "outputs": [
    {
     "data": {
      "text/plain": [
       "[]"
      ]
     },
     "execution_count": 485,
     "metadata": {},
     "output_type": "execute_result"
    },
    {
     "data": {
      "text/plain": [
       "<Figure size 720x432 with 0 Axes>"
      ]
     },
     "metadata": {},
     "output_type": "display_data"
    },
    {
     "data": {
      "image/png": "[encoded data removed]",
      "text/plain": [
       "<Figure size 432x288 with 1 Axes>"
      ]
     },
     "metadata": {
      "needs_background": "light"
     },
     "output_type": "display_data"
    }
   ],
   "source": [
    "plt.figure(figsize=(10, 6))\n",
    "sum_units_pivot.plot(legend = True)\n",
    "plt.xlabel('Week')\n",
    "plt.ylabel('Total Weekly Units Sold')\n",
    "plt.title('Total Weekly Units by Sales Method')\n",
    "plt.plot()"
   ]
  },
  {
   "cell_type": "code",
   "execution_count": 486,
   "id": "4bf6baad",
   "metadata": {},
   "outputs": [],
   "source": [
    "avg_rev_unit = pd.DataFrame(df.groupby(['sales_method', 'week'])['rev_per_unit'].agg('mean'))\n",
    "avg_rev_unit_pivot = avg_rev_unit.reset_index().pivot_table(index = 'week', values = 'rev_per_unit', columns = 'sales_method', aggfunc = 'mean')"
   ]
  },
  {
   "cell_type": "code",
   "execution_count": 487,
   "id": "d57de6ed",
   "metadata": {},
   "outputs": [
    {
     "data": {
      "text/plain": [
       "[]"
      ]
     },
     "execution_count": 487,
     "metadata": {},
     "output_type": "execute_result"
    },
    {
     "data": {
      "text/plain": [
       "<Figure size 720x432 with 0 Axes>"
      ]
     },
     "metadata": {},
     "output_type": "display_data"
    },
    {
     "data": {
      "image/png": "[encoded data removed]",
      "text/plain": [
       "<Figure size 432x288 with 1 Axes>"
      ]
     },
     "metadata": {
      "needs_background": "light"
     },
     "output_type": "display_data"
    }
   ],
   "source": [
    "plt.figure(figsize=(10, 6))\n",
    "avg_rev_unit_pivot.plot(legend = True)\n",
    "plt.xlabel('Week')\n",
    "plt.ylabel('Revenue per Unit')\n",
    "plt.title('Average Revenue per Unit by Sales Method')\n",
    "plt.plot()"
   ]
  },
  {
   "cell_type": "markdown",
   "id": "dd85df78",
   "metadata": {},
   "source": [
    "## Business Metric"
   ]
  },
  {
   "cell_type": "markdown",
   "id": "1daad824",
   "metadata": {},
   "source": [
    "The business wants to have successful product launches to know if they should continue to make and sell the product. We believe that the business should monitor the early weeks of a launch to determine if the products in a launch are still worth making. Therefore, we recommend the business track total revenue and number of units sold each week."
   ]
  },
  {
   "cell_type": "code",
   "execution_count": 499,
   "id": "c51b85b3",
   "metadata": {},
   "outputs": [
    {
     "data": {
      "text/html": [
       "<div>\n",
       "<style scoped>\n",
       "    .dataframe tbody tr th:only-of-type {\n",
       "        vertical-align: middle;\n",
       "    }\n",
       "\n",
       "    .dataframe tbody tr th {\n",
       "        vertical-align: top;\n",
       "    }\n",
       "\n",
       "    .dataframe thead th {\n",
       "        text-align: right;\n",
       "    }\n",
       "</style>\n",
       "<table border=\"1\" class=\"dataframe\">\n",
       "  <thead>\n",
       "    <tr style=\"text-align: right;\">\n",
       "      <th></th>\n",
       "      <th>revenue</th>\n",
       "    </tr>\n",
       "    <tr>\n",
       "      <th>week</th>\n",
       "      <th></th>\n",
       "    </tr>\n",
       "  </thead>\n",
       "  <tbody>\n",
       "    <tr>\n",
       "      <th>1</th>\n",
       "      <td>292295.225267</td>\n",
       "    </tr>\n",
       "    <tr>\n",
       "      <th>2</th>\n",
       "      <td>214740.823775</td>\n",
       "    </tr>\n",
       "    <tr>\n",
       "      <th>3</th>\n",
       "      <td>198525.125324</td>\n",
       "    </tr>\n",
       "    <tr>\n",
       "      <th>4</th>\n",
       "      <td>258214.353853</td>\n",
       "    </tr>\n",
       "    <tr>\n",
       "      <th>5</th>\n",
       "      <td>284063.160161</td>\n",
       "    </tr>\n",
       "    <tr>\n",
       "      <th>6</th>\n",
       "      <td>187975.236261</td>\n",
       "    </tr>\n",
       "  </tbody>\n",
       "</table>\n",
       "</div>"
      ],
      "text/plain": [
       "            revenue\n",
       "week               \n",
       "1     292295.225267\n",
       "2     214740.823775\n",
       "3     198525.125324\n",
       "4     258214.353853\n",
       "5     284063.160161\n",
       "6     187975.236261"
      ]
     },
     "execution_count": 499,
     "metadata": {},
     "output_type": "execute_result"
    }
   ],
   "source": [
    "total_units = pd.DataFrame(df.groupby(['week'])['revenue'].agg('sum'))\n",
    "total_units"
   ]
  },
  {
   "cell_type": "code",
   "execution_count": 504,
   "id": "d02147a8",
   "metadata": {},
   "outputs": [
    {
     "data": {
      "text/plain": [
       "[]"
      ]
     },
     "execution_count": 504,
     "metadata": {},
     "output_type": "execute_result"
    },
    {
     "data": {
      "image/png": "[encoded data removed]",
      "text/plain": [
       "<Figure size 432x288 with 1 Axes>"
      ]
     },
     "metadata": {
      "needs_background": "light"
     },
     "output_type": "display_data"
    }
   ],
   "source": [
    "total_units.plot(legend = False)\n",
    "plt.xlabel('Week')\n",
    "plt.ylabel('Revenue')\n",
    "plt.title('Total Revenue by Week')\n",
    "plt.plot()"
   ]
  },
  {
   "cell_type": "code",
   "execution_count": null,
   "id": "c68ef970",
   "metadata": {},
   "outputs": [],
   "source": []
  }
 ],
 "metadata": {
  "kernelspec": {
   "display_name": "Python 3 (ipykernel)",
   "language": "python",
   "name": "python3"
  },
  "language_info": {
   "codemirror_mode": {
    "name": "ipython",
    "version": 3
   },
   "file_extension": ".py",
   "mimetype": "text/x-python",
   "name": "python",
   "nbconvert_exporter": "python",
   "pygments_lexer": "ipython3",
   "version": "3.9.12"
  }
 },
 "nbformat": 4,
 "nbformat_minor": 5
}
